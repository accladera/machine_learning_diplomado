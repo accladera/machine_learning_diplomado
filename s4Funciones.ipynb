{
 "cells": [
  {
   "cell_type": "markdown",
   "id": "f3c5a3cc-a515-4e74-b21c-6487d4f453a6",
   "metadata": {},
   "source": [
    "Funciones\n",
    "\n",
    "def function_name(x):\n",
    "\n",
    "    return x+1\n"
   ]
  },
  {
   "cell_type": "code",
   "execution_count": 1,
   "id": "01ac9bfe-5fc5-4097-8493-822842f6aaf2",
   "metadata": {},
   "outputs": [],
   "source": [
    "# Generar la suma de cuadrados de 3 valores dados\n",
    "# Entrada: 3,1,2\n",
    "# Salida: 9+1+4 = 14\n",
    "\n",
    "def sum_cuadrados(a,b,c):\n",
    "    suma_c = a**2+b**2+c**2\n",
    "    return suma_c"
   ]
  },
  {
   "cell_type": "code",
   "execution_count": 2,
   "id": "6d60312f-bfdf-41e9-9d69-c13cdcf02e2b",
   "metadata": {},
   "outputs": [
    {
     "data": {
      "text/plain": [
       "98"
      ]
     },
     "execution_count": 2,
     "metadata": {},
     "output_type": "execute_result"
    }
   ],
   "source": [
    "sum_cuadrados(9,1,4)"
   ]
  },
  {
   "cell_type": "code",
   "execution_count": 3,
   "id": "1cccd1c2-93f8-4aa3-8874-03fb804bdbc8",
   "metadata": {},
   "outputs": [
    {
     "data": {
      "text/plain": [
       "14"
      ]
     },
     "execution_count": 3,
     "metadata": {},
     "output_type": "execute_result"
    }
   ],
   "source": [
    "sum_cuadrados(3,1,2)"
   ]
  },
  {
   "cell_type": "code",
   "execution_count": 4,
   "id": "768ec27f-4584-4c7a-a0f6-d09e991f1b52",
   "metadata": {},
   "outputs": [],
   "source": [
    "#MSE : Mean Squared error\n",
    "# sumar errores**2/(# de elementos)\n",
    "def mse_3(a,b,c):\n",
    "    suma_errores = sum_cuadrados(a,b,c)\n",
    "    mse_calculado = suma_errores/3\n",
    "    return mse_calculado"
   ]
  },
  {
   "cell_type": "code",
   "execution_count": 6,
   "id": "c340d0ce-0f69-4c80-88e9-855ea5c83a29",
   "metadata": {},
   "outputs": [
    {
     "data": {
      "text/plain": [
       "4.666666666666667"
      ]
     },
     "execution_count": 6,
     "metadata": {},
     "output_type": "execute_result"
    }
   ],
   "source": [
    "mse_3(1,2,3)"
   ]
  },
  {
   "cell_type": "code",
   "execution_count": 8,
   "id": "e5061bc9-b6e5-4139-9446-f13788e527e5",
   "metadata": {},
   "outputs": [],
   "source": [
    "# RMSE Raiz cuadrada del MSE\n",
    "def rmse_3(a,b,c=0):\n",
    "    valor_rmse = mse_3(a,b,c)*0.5\n",
    "    return(valor_rmse)\n"
   ]
  },
  {
   "cell_type": "code",
   "execution_count": 9,
   "id": "8bc6247d-4fc1-4d9e-8215-89e2b1086826",
   "metadata": {},
   "outputs": [
    {
     "data": {
      "text/plain": [
       "2.3333333333333335"
      ]
     },
     "execution_count": 9,
     "metadata": {},
     "output_type": "execute_result"
    }
   ],
   "source": [
    "rmse_3(1,2,3)"
   ]
  },
  {
   "cell_type": "markdown",
   "id": "4d3f3afa-b26f-4b9d-8131-e2317bdf72e4",
   "metadata": {},
   "source": [
    "### llamada de las funciones\n",
    "- podemos pasar los argumentos por orden o por palabras claves\n",
    "  "
   ]
  },
  {
   "cell_type": "code",
   "execution_count": 10,
   "id": "1a55248d-a2c7-4376-b944-7066e287fe03",
   "metadata": {},
   "outputs": [
    {
     "data": {
      "text/plain": [
       "2.3333333333333335"
      ]
     },
     "execution_count": 10,
     "metadata": {},
     "output_type": "execute_result"
    }
   ],
   "source": [
    "rmse_3(1,2,3)\n",
    "rmse_3(b=1,a=2,c=3)"
   ]
  },
  {
   "cell_type": "code",
   "execution_count": null,
   "id": "c59d2aa1-3c09-4484-a1ea-27972f29f0d9",
   "metadata": {},
   "outputs": [],
   "source": []
  }
 ],
 "metadata": {
  "kernelspec": {
   "display_name": "Python 3 (ipykernel)",
   "language": "python",
   "name": "python3"
  },
  "language_info": {
   "codemirror_mode": {
    "name": "ipython",
    "version": 3
   },
   "file_extension": ".py",
   "mimetype": "text/x-python",
   "name": "python",
   "nbconvert_exporter": "python",
   "pygments_lexer": "ipython3",
   "version": "3.9.5"
  }
 },
 "nbformat": 4,
 "nbformat_minor": 5
}
