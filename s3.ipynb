{
 "cells": [
  {
   "cell_type": "markdown",
   "id": "cd5e3a1e-5f8b-44ea-9180-e6a77bfb5fae",
   "metadata": {},
   "source": [
    "Session 3"
   ]
  },
  {
   "cell_type": "markdown",
   "id": "607db967-747e-433d-abea-e35a5346564a",
   "metadata": {},
   "source": [
    "## Bucles /loops"
   ]
  },
  {
   "cell_type": "markdown",
   "id": "9f4ee110-920f-4bff-ae73-173fda40d059",
   "metadata": {},
   "source": [
    "### Bucle for"
   ]
  },
  {
   "cell_type": "code",
   "execution_count": 1,
   "id": "01363028-3d77-4849-a3bc-366634a28755",
   "metadata": {},
   "outputs": [
    {
     "name": "stdout",
     "output_type": "stream",
     "text": [
      "la variable actual en la iteración es: p\n",
      "la variable actual en la iteración es: y\n",
      "la variable actual en la iteración es: t\n",
      "la variable actual en la iteración es: h\n",
      "la variable actual en la iteración es: o\n",
      "la variable actual en la iteración es: n\n"
     ]
    }
   ],
   "source": [
    "# bucle fos\n",
    "var_str = \"python\"\n",
    "for letra in var_str:\n",
    "    print(\"la variable actual en la iteración es:\", letra)"
   ]
  },
  {
   "cell_type": "code",
   "execution_count": 3,
   "id": "93aefffd-c553-40dc-a18e-750bd901110f",
   "metadata": {},
   "outputs": [
    {
     "name": "stdout",
     "output_type": "stream",
     "text": [
      "elemento /10 = 3.0\n",
      "elemento /10 = 4.0\n",
      "elemento /10 = 5.0\n"
     ]
    }
   ],
   "source": [
    "lista_1 = [30,40,50]\n",
    "for elemento in lista_1:\n",
    "    print(\"elemento /10 =\", elemento/10)"
   ]
  },
  {
   "cell_type": "code",
   "execution_count": 5,
   "id": "c610beb7-cb84-44eb-a684-1756faf59f18",
   "metadata": {},
   "outputs": [
    {
     "name": "stdout",
     "output_type": "stream",
     "text": [
      "1\n",
      "3\n",
      "5\n",
      "7\n",
      "9\n"
     ]
    }
   ],
   "source": [
    "for var1 in range(1,10,2):\n",
    "    print(var1)"
   ]
  },
  {
   "cell_type": "code",
   "execution_count": 6,
   "id": "1253c99a-d526-422e-aa9b-9ad6542085d7",
   "metadata": {},
   "outputs": [],
   "source": [
    "frutas = ['mandarina', 'manzana', 'pera', 'plátano', 'kiwi', 'manzana', 'plátano']\n"
   ]
  },
  {
   "cell_type": "code",
   "execution_count": 7,
   "id": "793a6d29-8272-45f2-9b9e-07da6a589ad8",
   "metadata": {},
   "outputs": [],
   "source": [
    "frutas.remove(\"pera\")"
   ]
  },
  {
   "cell_type": "code",
   "execution_count": 8,
   "id": "a60a39db-76cb-4925-8620-02e558cae426",
   "metadata": {},
   "outputs": [
    {
     "data": {
      "text/plain": [
       "['mandarina', 'manzana', 'plátano', 'kiwi', 'manzana', 'plátano']"
      ]
     },
     "execution_count": 8,
     "metadata": {},
     "output_type": "execute_result"
    }
   ],
   "source": [
    "frutas"
   ]
  },
  {
   "cell_type": "markdown",
   "id": "064db9f2-cf99-488b-a5ad-bf37763e6947",
   "metadata": {},
   "source": [
    "# Diccionarios"
   ]
  },
  {
   "cell_type": "code",
   "execution_count": 1,
   "id": "0753a118-e6cf-42aa-a09a-c2db13f98687",
   "metadata": {},
   "outputs": [
    {
     "name": "stdout",
     "output_type": "stream",
     "text": [
      "{'Ana': 'Santa Cruz', 'Daniel': 'La Paz', 'Jose': 'Trinidad', 'Nicole': 'Tarija', 'Jorge': 'Cochabamba'}\n",
      "{'Ana': 'Santa Cruz', 'Daniel': 'La Paz', 'Jose': 'Trinidad', 'Nicole': 'Tarija', 'Jorge': 'Cochabamba', 'Sofia': 'Pando'}\n"
     ]
    }
   ],
   "source": [
    "dict_a={\"Ana\":\"Santa Cruz\",\"Daniel\":\"La Paz\",\"Jose\":\"Trinidad\",\"Nicole\":\"Tarija\",\"Jorge\":\"Cochabamba\"}\n",
    "print(dict_a)\n",
    "dict_a[\"Sofia\"]=\"Pando\"\n",
    "print(dict_a)"
   ]
  },
  {
   "cell_type": "code",
   "execution_count": null,
   "id": "fcfb0764-b452-4040-b7a9-d5fadb57e9a2",
   "metadata": {},
   "outputs": [],
   "source": []
  },
  {
   "cell_type": "code",
   "execution_count": null,
   "id": "aabd7635-96c6-4628-991f-fd5a3745acfd",
   "metadata": {},
   "outputs": [],
   "source": []
  }
 ],
 "metadata": {
  "kernelspec": {
   "display_name": "Python 3 (ipykernel)",
   "language": "python",
   "name": "python3"
  },
  "language_info": {
   "codemirror_mode": {
    "name": "ipython",
    "version": 3
   },
   "file_extension": ".py",
   "mimetype": "text/x-python",
   "name": "python",
   "nbconvert_exporter": "python",
   "pygments_lexer": "ipython3",
   "version": "3.9.5"
  }
 },
 "nbformat": 4,
 "nbformat_minor": 5
}
