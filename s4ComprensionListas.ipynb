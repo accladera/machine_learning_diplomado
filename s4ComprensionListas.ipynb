{
 "cells": [
  {
   "cell_type": "markdown",
   "id": "b80254d7-084f-47fd-afb4-c59c407261bd",
   "metadata": {},
   "source": [
    "# Comprensio de listas con condicionales\n",
    "- usamos comprension de listas para \n",
    "- for , if , else, definicion de funcion\n",
    "\n",
    "list = [ expresion1 for item in iterable if conditional]\n",
    "\n",
    "list = [expresion1 if (conditional) else expresion2 for item in iterable]\n",
    "\n",
    "  la expresion es el codigo que se trata o lo que incluis para manipular los datos, item es el elemento actual que esta iterando, luego una condicion if\n",
    "\n",
    "  ex. B = [ number**2        if number%2 == 0      else  2*number           for number in A]\n",
    "            expression1      if conditional        else  expresion          for\n"
   ]
  },
  {
   "cell_type": "code",
   "execution_count": 2,
   "id": "39e68b06-6d80-4713-929f-a3431d9521b5",
   "metadata": {},
   "outputs": [],
   "source": [
    "# para \n",
    "modelos_prec = [90,75,95,50,85,70]"
   ]
  },
  {
   "cell_type": "code",
   "execution_count": 3,
   "id": "4f454fbb-505f-4625-ba78-4337b1aacdeb",
   "metadata": {},
   "outputs": [
    {
     "name": "stdout",
     "output_type": "stream",
     "text": [
      "[90, 95, 85]\n"
     ]
    }
   ],
   "source": [
    "#utilizando comprension de diccionarios:\n",
    "\n",
    "modelos_opt_2 = [elemento for elemento in modelos_prec if  elemento>80]\n",
    "print(modelos_opt_2)"
   ]
  },
  {
   "cell_type": "code",
   "execution_count": 6,
   "id": "f25ed637-1499-45c8-83a9-709d3a38386b",
   "metadata": {},
   "outputs": [
    {
     "data": {
      "text/plain": [
       "[0, 2, 4]"
      ]
     },
     "execution_count": 6,
     "metadata": {},
     "output_type": "execute_result"
    }
   ],
   "source": [
    "indices_modelos_2 = [modelos_prec.index(elemento) for elemento in modelos_prec if elemento>80]\n",
    "indices_modelos_2"
   ]
  },
  {
   "cell_type": "markdown",
   "id": "b9a39962-ea86-4e35-a17b-1f15710ad7e3",
   "metadata": {},
   "source": [
    "## Comprension de lista - IF ELSE"
   ]
  },
  {
   "cell_type": "code",
   "execution_count": 10,
   "id": "5e6cdf06-5c8f-494b-81ff-93794976e3ec",
   "metadata": {},
   "outputs": [
    {
     "name": "stdout",
     "output_type": "stream",
     "text": [
      "[90, 0, 95, 0, 85, 0]\n"
     ]
    }
   ],
   "source": [
    "#modificar los elementos que tengan un valor < 80  y guardar los 0\n",
    "modelos_proc_1 = []\n",
    "for elemento in modelos_prec:\n",
    "    if elemento>80:\n",
    "        modelos_proc_1.append(elemento)\n",
    "    else:\n",
    "        modelos_proc_1.append(0)\n",
    "print(modelos_proc_1)\n"
   ]
  },
  {
   "cell_type": "code",
   "execution_count": 11,
   "id": "17a92abc-10fb-414f-b504-e9a492941b6f",
   "metadata": {},
   "outputs": [
    {
     "name": "stdout",
     "output_type": "stream",
     "text": [
      "[90, 0, 95, 0, 85, 0]\n"
     ]
    }
   ],
   "source": [
    "modelos_proc_2 = [elemento if elemento>80 else 0 for elemento in modelos_prec]\n",
    "print(modelos_proc_2)"
   ]
  },
  {
   "cell_type": "code",
   "execution_count": null,
   "id": "71a6cc0a-2307-4e51-a1fb-75dc060c3d80",
   "metadata": {},
   "outputs": [],
   "source": []
  }
 ],
 "metadata": {
  "kernelspec": {
   "display_name": "Python 3 (ipykernel)",
   "language": "python",
   "name": "python3"
  },
  "language_info": {
   "codemirror_mode": {
    "name": "ipython",
    "version": 3
   },
   "file_extension": ".py",
   "mimetype": "text/x-python",
   "name": "python",
   "nbconvert_exporter": "python",
   "pygments_lexer": "ipython3",
   "version": "3.9.5"
  }
 },
 "nbformat": 4,
 "nbformat_minor": 5
}
