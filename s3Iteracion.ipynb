{
 "cells": [
  {
   "cell_type": "markdown",
   "metadata": {},
   "source": [
    "# Listas, loops y diccionarios"
   ]
  },
  {
   "cell_type": "markdown",
   "metadata": {},
   "source": [
    "Iteracion : conjunto de sentencias que correran multiples veces. Conjunto de declaraciones que permiten la ejecución de declaraciones de manera iterada\n",
    "Iterador : se conoce iterador a todo el conjunto iterable + la sentencia for\n",
    "Iterable : el conjunto de elementos/ rango en el que se va a iterar, conjunto de elementos a iterar\n",
    "\n",
    "iteracion: es el bloque que contiene la definicion de la iteracion (iterador ex.for,iterable ex.listas) y las declaraciones que se deberan realizan en la iteracion\n",
    "iterador: es el que se encarga de realizar la iteracion de un iteable, ex. For, etc\n",
    "iterable: es la lista de elementos que debe ser de tipo iterable que se usara en la iteracion\n",
    "\n"
   ]
  },
  {
   "cell_type": "code",
   "execution_count": null,
   "metadata": {
    "vscode": {
     "languageId": "plaintext"
    }
   },
   "outputs": [],
   "source": []
  }
 ],
 "metadata": {
  "language_info": {
   "name": "python"
  }
 },
 "nbformat": 4,
 "nbformat_minor": 2
}
