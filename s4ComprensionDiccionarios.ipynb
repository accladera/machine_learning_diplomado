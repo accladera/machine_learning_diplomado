{
 "cells": [
  {
   "cell_type": "markdown",
   "id": "4646949a-0cb3-4faf-bb07-8426248cb24f",
   "metadata": {},
   "source": [
    "# Comprension de diccionarios\n",
    "- funciona de la misma manera de la comprension de listas\n",
    "- la diferencia es que debe usar {} y ser clave:valor\n",
    "- los iterables pueden ser tuplas, listas, etc"
   ]
  },
  {
   "cell_type": "code",
   "execution_count": 1,
   "id": "d163119a-7915-4ee8-8f21-32f222af8bd1",
   "metadata": {},
   "outputs": [],
   "source": [
    "A = [1,2,3]\n",
    "B = {number:number**2 for number in A}"
   ]
  },
  {
   "cell_type": "code",
   "execution_count": 2,
   "id": "fde68ae6-0d00-4b13-973b-ac6d3ff1aed6",
   "metadata": {},
   "outputs": [
    {
     "data": {
      "text/plain": [
       "{1: 1, 2: 4, 3: 9}"
      ]
     },
     "execution_count": 2,
     "metadata": {},
     "output_type": "execute_result"
    }
   ],
   "source": [
    "B"
   ]
  },
  {
   "cell_type": "code",
   "execution_count": 3,
   "id": "07811da6-7305-4b11-b200-df18953a1c17",
   "metadata": {},
   "outputs": [
    {
     "name": "stdout",
     "output_type": "stream",
     "text": [
      "{'modelo_0': 0.5, 'modelo_1': 0.2, 'modelo_2': 0.3}\n"
     ]
    }
   ],
   "source": [
    "lista_modelos = [0.5,0.2,0.3]\n",
    "dict_modelos = {\"modelo_\"+str(lista_modelos.index(elemento)):elemento for elemento in lista_modelos}\n",
    "print(dict_modelos)"
   ]
  },
  {
   "cell_type": "code",
   "execution_count": 4,
   "id": "28d20179-51eb-4452-87ac-fab15288a651",
   "metadata": {},
   "outputs": [
    {
     "name": "stdout",
     "output_type": "stream",
     "text": [
      "{'A': 90, 'B': 95}\n"
     ]
    }
   ],
   "source": [
    "dict_a = {\"A\":90, \"B\":95,\"C\":60,\"D\":70,\"E\":50}\n",
    "dict_fil_1 = {}\n",
    "for clave,valor in dict_a.items():\n",
    "    if valor > 80:\n",
    "        dict_fil_1[clave]=valor\n",
    "print(dict_fil_1)"
   ]
  },
  {
   "cell_type": "code",
   "execution_count": 5,
   "id": "d066383a-7f96-444a-9099-4083fdc32bf1",
   "metadata": {},
   "outputs": [
    {
     "name": "stdout",
     "output_type": "stream",
     "text": [
      "{'A': 90, 'B': 95}\n"
     ]
    }
   ],
   "source": [
    "dict_filt_2 = { clave:valor for clave,valor in dict_a.items() if valor>80}\n",
    "print(dict_filt_2)"
   ]
  },
  {
   "cell_type": "markdown",
   "id": "48f62692-b15c-4325-b0ac-eb1b17d3f8a7",
   "metadata": {},
   "source": [
    "preguntas:\n",
    "- comprension de tuplas?\n",
    "- Como haríamos para trata los elementos de un diccionario cuando uno de los valores de un diccionario tiene otro diccionario dentro?\n",
    "- "
   ]
  },
  {
   "cell_type": "code",
   "execution_count": null,
   "id": "7f4992d0-b416-4eab-b66d-3dbe585335ae",
   "metadata": {},
   "outputs": [],
   "source": []
  }
 ],
 "metadata": {
  "kernelspec": {
   "display_name": "Python 3 (ipykernel)",
   "language": "python",
   "name": "python3"
  },
  "language_info": {
   "codemirror_mode": {
    "name": "ipython",
    "version": 3
   },
   "file_extension": ".py",
   "mimetype": "text/x-python",
   "name": "python",
   "nbconvert_exporter": "python",
   "pygments_lexer": "ipython3",
   "version": "3.9.5"
  }
 },
 "nbformat": 4,
 "nbformat_minor": 5
}
