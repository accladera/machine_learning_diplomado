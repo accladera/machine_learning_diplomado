{
 "cells": [
  {
   "cell_type": "code",
   "execution_count": 2,
   "metadata": {},
   "outputs": [],
   "source": [
    "import pandas as pd"
   ]
  },
  {
   "cell_type": "code",
   "execution_count": 5,
   "metadata": {},
   "outputs": [],
   "source": [
    "folder = \"D:\\\\2024\\\\Diplomado\\\\1 Herramientas básicas de visualización de datos\\\\diplomado_ml\\\\dataset\\\\\"\n",
    "file= 'titles.csv'\n",
    "ruta = folder+file\n",
    "df = pd.read_csv(ruta)"
   ]
  },
  {
   "cell_type": "code",
   "execution_count": 6,
   "metadata": {},
   "outputs": [
    {
     "data": {
      "text/html": [
       "<div>\n",
       "<style scoped>\n",
       "    .dataframe tbody tr th:only-of-type {\n",
       "        vertical-align: middle;\n",
       "    }\n",
       "\n",
       "    .dataframe tbody tr th {\n",
       "        vertical-align: top;\n",
       "    }\n",
       "\n",
       "    .dataframe thead th {\n",
       "        text-align: right;\n",
       "    }\n",
       "</style>\n",
       "<table border=\"1\" class=\"dataframe\">\n",
       "  <thead>\n",
       "    <tr style=\"text-align: right;\">\n",
       "      <th></th>\n",
       "      <th>title</th>\n",
       "      <th>year</th>\n",
       "      <th>rating</th>\n",
       "      <th>votes</th>\n",
       "    </tr>\n",
       "  </thead>\n",
       "  <tbody>\n",
       "    <tr>\n",
       "      <th>0</th>\n",
       "      <td>Spanish Fiesta</td>\n",
       "      <td>2019</td>\n",
       "      <td>6.9</td>\n",
       "      <td>29</td>\n",
       "    </tr>\n",
       "    <tr>\n",
       "      <th>1</th>\n",
       "      <td>La tierra de los toros</td>\n",
       "      <td>2000</td>\n",
       "      <td>5.4</td>\n",
       "      <td>14</td>\n",
       "    </tr>\n",
       "    <tr>\n",
       "      <th>2</th>\n",
       "      <td>Dama de noche</td>\n",
       "      <td>1993</td>\n",
       "      <td>6.0</td>\n",
       "      <td>25</td>\n",
       "    </tr>\n",
       "    <tr>\n",
       "      <th>3</th>\n",
       "      <td>Frivolinas</td>\n",
       "      <td>2014</td>\n",
       "      <td>5.6</td>\n",
       "      <td>19</td>\n",
       "    </tr>\n",
       "    <tr>\n",
       "      <th>4</th>\n",
       "      <td>Mya ga naing</td>\n",
       "      <td>1996</td>\n",
       "      <td>7.5</td>\n",
       "      <td>21</td>\n",
       "    </tr>\n",
       "  </tbody>\n",
       "</table>\n",
       "</div>"
      ],
      "text/plain": [
       "                    title  year  rating  votes\n",
       "0          Spanish Fiesta  2019     6.9     29\n",
       "1  La tierra de los toros  2000     5.4     14\n",
       "2           Dama de noche  1993     6.0     25\n",
       "3              Frivolinas  2014     5.6     19\n",
       "4            Mya ga naing  1996     7.5     21"
      ]
     },
     "execution_count": 6,
     "metadata": {},
     "output_type": "execute_result"
    }
   ],
   "source": [
    "df.head()"
   ]
  },
  {
   "cell_type": "markdown",
   "metadata": {},
   "source": [
    "# Filtrado de datos en pandas\n"
   ]
  },
  {
   "cell_type": "code",
   "execution_count": 7,
   "metadata": {},
   "outputs": [
    {
     "data": {
      "text/html": [
       "<div>\n",
       "<style scoped>\n",
       "    .dataframe tbody tr th:only-of-type {\n",
       "        vertical-align: middle;\n",
       "    }\n",
       "\n",
       "    .dataframe tbody tr th {\n",
       "        vertical-align: top;\n",
       "    }\n",
       "\n",
       "    .dataframe thead th {\n",
       "        text-align: right;\n",
       "    }\n",
       "</style>\n",
       "<table border=\"1\" class=\"dataframe\">\n",
       "  <thead>\n",
       "    <tr style=\"text-align: right;\">\n",
       "      <th></th>\n",
       "      <th>title</th>\n",
       "      <th>year</th>\n",
       "      <th>rating</th>\n",
       "      <th>votes</th>\n",
       "    </tr>\n",
       "  </thead>\n",
       "  <tbody>\n",
       "    <tr>\n",
       "      <th>3016</th>\n",
       "      <td>Always a New Beginning</td>\n",
       "      <td>1974</td>\n",
       "      <td>9.6</td>\n",
       "      <td>15</td>\n",
       "    </tr>\n",
       "    <tr>\n",
       "      <th>22570</th>\n",
       "      <td>All I Know Is</td>\n",
       "      <td>1992</td>\n",
       "      <td>10.0</td>\n",
       "      <td>5</td>\n",
       "    </tr>\n",
       "    <tr>\n",
       "      <th>55577</th>\n",
       "      <td>The Want</td>\n",
       "      <td>2001</td>\n",
       "      <td>9.8</td>\n",
       "      <td>9</td>\n",
       "    </tr>\n",
       "    <tr>\n",
       "      <th>74078</th>\n",
       "      <td>The People's Story</td>\n",
       "      <td>2000</td>\n",
       "      <td>9.6</td>\n",
       "      <td>20</td>\n",
       "    </tr>\n",
       "    <tr>\n",
       "      <th>77226</th>\n",
       "      <td>Indocumentados</td>\n",
       "      <td>2004</td>\n",
       "      <td>9.8</td>\n",
       "      <td>15</td>\n",
       "    </tr>\n",
       "  </tbody>\n",
       "</table>\n",
       "</div>"
      ],
      "text/plain": [
       "                        title  year  rating  votes\n",
       "3016   Always a New Beginning  1974     9.6     15\n",
       "22570           All I Know Is  1992    10.0      5\n",
       "55577                The Want  2001     9.8      9\n",
       "74078      The People's Story  2000     9.6     20\n",
       "77226          Indocumentados  2004     9.8     15"
      ]
     },
     "execution_count": 7,
     "metadata": {},
     "output_type": "execute_result"
    }
   ],
   "source": [
    "filtro = df['rating']>9.5\n",
    "df_filtrado = df[filtro]\n",
    "df_filtrado.head()"
   ]
  },
  {
   "cell_type": "code",
   "execution_count": 10,
   "metadata": {},
   "outputs": [],
   "source": [
    "df2 = pd.read_csv('dataset/cast.csv',sep=\"|\")"
   ]
  },
  {
   "cell_type": "code",
   "execution_count": 11,
   "metadata": {},
   "outputs": [
    {
     "data": {
      "text/html": [
       "<div>\n",
       "<style scoped>\n",
       "    .dataframe tbody tr th:only-of-type {\n",
       "        vertical-align: middle;\n",
       "    }\n",
       "\n",
       "    .dataframe tbody tr th {\n",
       "        vertical-align: top;\n",
       "    }\n",
       "\n",
       "    .dataframe thead th {\n",
       "        text-align: right;\n",
       "    }\n",
       "</style>\n",
       "<table border=\"1\" class=\"dataframe\">\n",
       "  <thead>\n",
       "    <tr style=\"text-align: right;\">\n",
       "      <th></th>\n",
       "      <th>name</th>\n",
       "      <th>title</th>\n",
       "      <th>year</th>\n",
       "      <th>rating</th>\n",
       "      <th>votes</th>\n",
       "    </tr>\n",
       "  </thead>\n",
       "  <tbody>\n",
       "    <tr>\n",
       "      <th>0</th>\n",
       "      <td>Ève Francis</td>\n",
       "      <td>Spanish Fiesta</td>\n",
       "      <td>2019</td>\n",
       "      <td>6.9</td>\n",
       "      <td>29</td>\n",
       "    </tr>\n",
       "    <tr>\n",
       "      <th>1</th>\n",
       "      <td>Gabriel Gabrio</td>\n",
       "      <td>Spanish Fiesta</td>\n",
       "      <td>2019</td>\n",
       "      <td>6.9</td>\n",
       "      <td>29</td>\n",
       "    </tr>\n",
       "    <tr>\n",
       "      <th>2</th>\n",
       "      <td>Jean Toulout</td>\n",
       "      <td>Spanish Fiesta</td>\n",
       "      <td>2019</td>\n",
       "      <td>6.9</td>\n",
       "      <td>29</td>\n",
       "    </tr>\n",
       "    <tr>\n",
       "      <th>3</th>\n",
       "      <td>Gaston Modot</td>\n",
       "      <td>Spanish Fiesta</td>\n",
       "      <td>2019</td>\n",
       "      <td>6.9</td>\n",
       "      <td>29</td>\n",
       "    </tr>\n",
       "    <tr>\n",
       "      <th>4</th>\n",
       "      <td>Antonio Cañero</td>\n",
       "      <td>La tierra de los toros</td>\n",
       "      <td>2000</td>\n",
       "      <td>5.4</td>\n",
       "      <td>14</td>\n",
       "    </tr>\n",
       "  </tbody>\n",
       "</table>\n",
       "</div>"
      ],
      "text/plain": [
       "             name                   title  year  rating  votes\n",
       "0     Ève Francis          Spanish Fiesta  2019     6.9     29\n",
       "1  Gabriel Gabrio          Spanish Fiesta  2019     6.9     29\n",
       "2    Jean Toulout          Spanish Fiesta  2019     6.9     29\n",
       "3    Gaston Modot          Spanish Fiesta  2019     6.9     29\n",
       "4  Antonio Cañero  La tierra de los toros  2000     5.4     14"
      ]
     },
     "execution_count": 11,
     "metadata": {},
     "output_type": "execute_result"
    }
   ],
   "source": [
    "df2.head()"
   ]
  }
 ],
 "metadata": {
  "kernelspec": {
   "display_name": "venv",
   "language": "python",
   "name": "python3"
  },
  "language_info": {
   "codemirror_mode": {
    "name": "ipython",
    "version": 3
   },
   "file_extension": ".py",
   "mimetype": "text/x-python",
   "name": "python",
   "nbconvert_exporter": "python",
   "pygments_lexer": "ipython3",
   "version": "3.9.5"
  }
 },
 "nbformat": 4,
 "nbformat_minor": 2
}
